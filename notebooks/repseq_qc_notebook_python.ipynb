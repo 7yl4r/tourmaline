{
 "cells": [
  {
   "cell_type": "code",
   "execution_count": 1,
   "metadata": {},
   "outputs": [],
   "source": [
    "import pandas as pd\n",
    "from qiime2 import Artifact\n",
    "import matplotlib.pyplot as plt\n",
    "import seaborn as sns\n",
    "%matplotlib inline"
   ]
  },
  {
   "cell_type": "code",
   "execution_count": 2,
   "metadata": {},
   "outputs": [],
   "source": [
    "method = 'dada2-pe'"
   ]
  },
  {
   "cell_type": "markdown",
   "metadata": {},
   "source": [
    "### PART 1 - PLOT OF SINGLE STUDY'S REPRESENTATIVE SEQS (DONE BY TOURMALINE)\n",
    "\n",
    "### NOT UPDATED - SEE PNG IN THIS FOLDER FOR LAST UPDATE"
   ]
  },
  {
   "cell_type": "markdown",
   "metadata": {},
   "source": [
    "#### Run Rscript run_odseq.R\n",
    "\n",
    "Arguments:\n",
    "\n",
    "1. input: aligned_dna_sequences.fasta\n",
    "2. odseq_distance_metric: type of distance metric to be computed (choose from: linear, affine)\n",
    "3. odseq_bootstrap_replicates: number of bootstrap replicates to be run (integer)\n",
    "4. odseq_threshold: probability to remain at the right of the bootstrap scores distribution when computing outliers (float)\n",
    "5. output: aligned_dna_sequences_outliers.csv"
   ]
  },
  {
   "cell_type": "raw",
   "metadata": {},
   "source": [
    "%%capture\n",
    "! Rscript --vanilla ../scripts/run_odseq.R \\\n",
    "../02-output-dada2-pe/01-alignment-tree-taxonomy/aligned_dna_sequences.fasta \\\n",
    "affine \\\n",
    "1000 \\\n",
    "0.025 \\\n",
    "../02-output-dada2-pe/01-alignment-tree-taxonomy/aligned_dna_sequences_outliers.csv"
   ]
  },
  {
   "cell_type": "markdown",
   "metadata": {},
   "source": [
    "#### Merge representative sequences properties"
   ]
  },
  {
   "cell_type": "raw",
   "metadata": {},
   "source": [
    "inputs = {'lengths': \"../02-output-%s/00-table-repseqs/representative_sequences_lengths.txt\" % method,\n",
    "         'gaps': \"../02-output-%s/01-alignment-tree-taxonomy/aligned_dna_sequences_gaps.txt\" % method,\n",
    "         'outliers': \"../02-output-%s/01-alignment-tree-taxonomy/aligned_dna_sequences_outliers.csv\" % method,\n",
    "         'taxonomy': \"../02-output-%s/01-alignment-tree-taxonomy/taxonomy.qza\" % method}"
   ]
  },
  {
   "cell_type": "raw",
   "metadata": {},
   "source": [
    "outputs = {'csv': \"../02-output-%s/01-alignment-tree-taxonomy/representative_sequences_properties.csv\" % method,\n",
    "          'pdf': \"../02-output-%s/01-alignment-tree-taxonomy/representative_sequences_properties.pdf\" % method}"
   ]
  },
  {
   "cell_type": "raw",
   "metadata": {},
   "source": [
    "lengths = pd.read_csv(inputs['lengths'], header=None)\n",
    "gaps = pd.read_csv(inputs['gaps'], header=None)\n",
    "outliers = pd.read_csv(inputs['outliers'], header=None)\n",
    "taxonomy = Artifact.load(inputs['taxonomy'])\n",
    "taxonomydf = taxonomy.view(view_type=pd.DataFrame)\n",
    "taxonomydf['level_1'] = [x.split(';')[0] for x in taxonomydf['Taxon']]"
   ]
  },
  {
   "cell_type": "raw",
   "metadata": {},
   "source": [
    "merged = pd.concat([lengths, gaps, outliers[1], taxonomydf['level_1'].reset_index(drop=True)], \n",
    "                   axis=1, ignore_index=True)\n",
    "merged.columns = ['representative_sequence', 'length', 'gaps', 'outlier', 'taxonomy_level_1']\n",
    "merged.to_csv(outputs['csv'], index=False)"
   ]
  },
  {
   "cell_type": "markdown",
   "metadata": {},
   "source": [
    "#### Plot representative sequences properties"
   ]
  },
  {
   "cell_type": "raw",
   "metadata": {},
   "source": [
    "fig, ax = plt.subplots()\n",
    "sns.scatterplot(ax=ax, data=merged, x='length', y='gaps', style='outlier', hue='taxonomy_level_1')\n",
    "plt.savefig(outputs['pdf'])"
   ]
  },
  {
   "cell_type": "markdown",
   "metadata": {},
   "source": [
    "### PART 2 - DADA2 TRUNCATION LENGTH"
   ]
  },
  {
   "cell_type": "code",
   "execution_count": 9,
   "metadata": {},
   "outputs": [],
   "source": [
    "root = '/Users/luke.thompson/projects/erie/parameter-testing-2018-16s'"
   ]
  },
  {
   "cell_type": "code",
   "execution_count": 19,
   "metadata": {},
   "outputs": [],
   "source": [
    "df = pd.DataFrame()\n",
    "for t in ['f150-r150', 'f150-r200']:\n",
    "    path_lengths = '%s/tourmaline-%s/02-denoised/dada2-pe/representative_sequences_lengths.txt' % (root, t)\n",
    "    lengths = pd.read_csv(path_lengths, header=None)\n",
    "    lengths['truncs'] = t\n",
    "    df = pd.concat([df, lengths])"
   ]
  },
  {
   "cell_type": "code",
   "execution_count": 20,
   "metadata": {},
   "outputs": [
    {
     "data": {
      "text/html": [
       "<div>\n",
       "<style scoped>\n",
       "    .dataframe tbody tr th:only-of-type {\n",
       "        vertical-align: middle;\n",
       "    }\n",
       "\n",
       "    .dataframe tbody tr th {\n",
       "        vertical-align: top;\n",
       "    }\n",
       "\n",
       "    .dataframe thead th {\n",
       "        text-align: right;\n",
       "    }\n",
       "</style>\n",
       "<table border=\"1\" class=\"dataframe\">\n",
       "  <thead>\n",
       "    <tr style=\"text-align: right;\">\n",
       "      <th></th>\n",
       "      <th>0</th>\n",
       "      <th>1</th>\n",
       "      <th>truncs</th>\n",
       "    </tr>\n",
       "  </thead>\n",
       "  <tbody>\n",
       "    <tr>\n",
       "      <th>0</th>\n",
       "      <td>b744eae1244325f606575483df0de67e</td>\n",
       "      <td>253</td>\n",
       "      <td>f150-r150</td>\n",
       "    </tr>\n",
       "    <tr>\n",
       "      <th>1</th>\n",
       "      <td>9cfa52be027c8fa57d197b21dd7a958c</td>\n",
       "      <td>253</td>\n",
       "      <td>f150-r150</td>\n",
       "    </tr>\n",
       "    <tr>\n",
       "      <th>2</th>\n",
       "      <td>107b9a5a275af37aa42aba0fafa2a6d4</td>\n",
       "      <td>253</td>\n",
       "      <td>f150-r150</td>\n",
       "    </tr>\n",
       "    <tr>\n",
       "      <th>3</th>\n",
       "      <td>3f456a18968cea5c5e549e281f0f5808</td>\n",
       "      <td>253</td>\n",
       "      <td>f150-r150</td>\n",
       "    </tr>\n",
       "    <tr>\n",
       "      <th>4</th>\n",
       "      <td>3b26ecfcd2d6fcb7e7a3493e5788c1bc</td>\n",
       "      <td>253</td>\n",
       "      <td>f150-r150</td>\n",
       "    </tr>\n",
       "    <tr>\n",
       "      <th>...</th>\n",
       "      <td>...</td>\n",
       "      <td>...</td>\n",
       "      <td>...</td>\n",
       "    </tr>\n",
       "    <tr>\n",
       "      <th>12116</th>\n",
       "      <td>2a0a5fc8bf993811cca7fae2baf3acf2</td>\n",
       "      <td>253</td>\n",
       "      <td>f150-r200</td>\n",
       "    </tr>\n",
       "    <tr>\n",
       "      <th>12117</th>\n",
       "      <td>fd6ce4e605b1f4ec3c9cccae070d1e38</td>\n",
       "      <td>281</td>\n",
       "      <td>f150-r200</td>\n",
       "    </tr>\n",
       "    <tr>\n",
       "      <th>12118</th>\n",
       "      <td>57992f377f812690f6cb05538d3ed727</td>\n",
       "      <td>281</td>\n",
       "      <td>f150-r200</td>\n",
       "    </tr>\n",
       "    <tr>\n",
       "      <th>12119</th>\n",
       "      <td>fdfe74e5dd4e95ba05076cbc36ce939d</td>\n",
       "      <td>283</td>\n",
       "      <td>f150-r200</td>\n",
       "    </tr>\n",
       "    <tr>\n",
       "      <th>12120</th>\n",
       "      <td>3df68af2fc2d86701d0461fd25ec30a8</td>\n",
       "      <td>254</td>\n",
       "      <td>f150-r200</td>\n",
       "    </tr>\n",
       "  </tbody>\n",
       "</table>\n",
       "<p>23687 rows × 3 columns</p>\n",
       "</div>"
      ],
      "text/plain": [
       "                                      0    1     truncs\n",
       "0      b744eae1244325f606575483df0de67e  253  f150-r150\n",
       "1      9cfa52be027c8fa57d197b21dd7a958c  253  f150-r150\n",
       "2      107b9a5a275af37aa42aba0fafa2a6d4  253  f150-r150\n",
       "3      3f456a18968cea5c5e549e281f0f5808  253  f150-r150\n",
       "4      3b26ecfcd2d6fcb7e7a3493e5788c1bc  253  f150-r150\n",
       "...                                 ...  ...        ...\n",
       "12116  2a0a5fc8bf993811cca7fae2baf3acf2  253  f150-r200\n",
       "12117  fd6ce4e605b1f4ec3c9cccae070d1e38  281  f150-r200\n",
       "12118  57992f377f812690f6cb05538d3ed727  281  f150-r200\n",
       "12119  fdfe74e5dd4e95ba05076cbc36ce939d  283  f150-r200\n",
       "12120  3df68af2fc2d86701d0461fd25ec30a8  254  f150-r200\n",
       "\n",
       "[23687 rows x 3 columns]"
      ]
     },
     "execution_count": 20,
     "metadata": {},
     "output_type": "execute_result"
    }
   ],
   "source": [
    "df"
   ]
  },
  {
   "cell_type": "code",
   "execution_count": 21,
   "metadata": {
    "scrolled": false
   },
   "outputs": [
    {
     "data": {
      "text/html": [
       "<div>\n",
       "<style scoped>\n",
       "    .dataframe tbody tr th:only-of-type {\n",
       "        vertical-align: middle;\n",
       "    }\n",
       "\n",
       "    .dataframe tbody tr th {\n",
       "        vertical-align: top;\n",
       "    }\n",
       "\n",
       "    .dataframe thead th {\n",
       "        text-align: right;\n",
       "    }\n",
       "</style>\n",
       "<table border=\"1\" class=\"dataframe\">\n",
       "  <thead>\n",
       "    <tr style=\"text-align: right;\">\n",
       "      <th></th>\n",
       "      <th>0</th>\n",
       "      <th>1</th>\n",
       "    </tr>\n",
       "    <tr>\n",
       "      <th>truncs</th>\n",
       "      <th></th>\n",
       "      <th></th>\n",
       "    </tr>\n",
       "  </thead>\n",
       "  <tbody>\n",
       "    <tr>\n",
       "      <th>f150-r150</th>\n",
       "      <td>fffed806c039778551e927d8b0579f48</td>\n",
       "      <td>288</td>\n",
       "    </tr>\n",
       "    <tr>\n",
       "      <th>f150-r200</th>\n",
       "      <td>fffed806c039778551e927d8b0579f48</td>\n",
       "      <td>338</td>\n",
       "    </tr>\n",
       "  </tbody>\n",
       "</table>\n",
       "</div>"
      ],
      "text/plain": [
       "                                          0    1\n",
       "truncs                                          \n",
       "f150-r150  fffed806c039778551e927d8b0579f48  288\n",
       "f150-r200  fffed806c039778551e927d8b0579f48  338"
      ]
     },
     "execution_count": 21,
     "metadata": {},
     "output_type": "execute_result"
    }
   ],
   "source": [
    "df.groupby('truncs').max()"
   ]
  },
  {
   "cell_type": "code",
   "execution_count": 22,
   "metadata": {},
   "outputs": [
    {
     "data": {
      "text/html": [
       "<div>\n",
       "<style scoped>\n",
       "    .dataframe tbody tr th:only-of-type {\n",
       "        vertical-align: middle;\n",
       "    }\n",
       "\n",
       "    .dataframe tbody tr th {\n",
       "        vertical-align: top;\n",
       "    }\n",
       "\n",
       "    .dataframe thead th {\n",
       "        text-align: right;\n",
       "    }\n",
       "</style>\n",
       "<table border=\"1\" class=\"dataframe\">\n",
       "  <thead>\n",
       "    <tr style=\"text-align: right;\">\n",
       "      <th></th>\n",
       "      <th>0</th>\n",
       "      <th>1</th>\n",
       "    </tr>\n",
       "    <tr>\n",
       "      <th>truncs</th>\n",
       "      <th></th>\n",
       "      <th></th>\n",
       "    </tr>\n",
       "  </thead>\n",
       "  <tbody>\n",
       "    <tr>\n",
       "      <th>f150-r150</th>\n",
       "      <td>0004f9e2fe26685a8a52da0e4bf2d78c</td>\n",
       "      <td>150</td>\n",
       "    </tr>\n",
       "    <tr>\n",
       "      <th>f150-r200</th>\n",
       "      <td>0004f9e2fe26685a8a52da0e4bf2d78c</td>\n",
       "      <td>200</td>\n",
       "    </tr>\n",
       "  </tbody>\n",
       "</table>\n",
       "</div>"
      ],
      "text/plain": [
       "                                          0    1\n",
       "truncs                                          \n",
       "f150-r150  0004f9e2fe26685a8a52da0e4bf2d78c  150\n",
       "f150-r200  0004f9e2fe26685a8a52da0e4bf2d78c  200"
      ]
     },
     "execution_count": 22,
     "metadata": {},
     "output_type": "execute_result"
    }
   ],
   "source": [
    "df.groupby('truncs').min()"
   ]
  },
  {
   "cell_type": "code",
   "execution_count": 23,
   "metadata": {},
   "outputs": [],
   "source": [
    "sns.distplot?"
   ]
  },
  {
   "cell_type": "code",
   "execution_count": null,
   "metadata": {},
   "outputs": [],
   "source": []
  }
 ],
 "metadata": {
  "kernelspec": {
   "display_name": "Python 3",
   "language": "python",
   "name": "python3"
  },
  "language_info": {
   "codemirror_mode": {
    "name": "ipython",
    "version": 3
   },
   "file_extension": ".py",
   "mimetype": "text/x-python",
   "name": "python",
   "nbconvert_exporter": "python",
   "pygments_lexer": "ipython3",
   "version": "3.6.11"
  }
 },
 "nbformat": 4,
 "nbformat_minor": 4
}
